{
 "cells": [
  {
   "cell_type": "code",
   "execution_count": 10,
   "metadata": {},
   "outputs": [],
   "source": [
    "from elasticsearch import Elasticsearch\n",
    "import pandas as pd\n",
    "import matplotlib.pyplot as plt\n",
    "import requests\n",
    "import numpy as np\n",
    "from sklearn.linear_model import LinearRegression"
   ]
  },
  {
   "cell_type": "code",
   "execution_count": 11,
   "metadata": {},
   "outputs": [
    {
     "name": "stderr",
     "output_type": "stream",
     "text": [
      "/home/kejing/miniconda3_py38/lib/python3.8/site-packages/elasticsearch/_sync/client/__init__.py:399: SecurityWarning: Connecting to 'https://127.0.0.1:9200' using TLS with verify_certs=False is insecure\n",
      "  _transport = transport_class(\n"
     ]
    }
   ],
   "source": [
    "es = Elasticsearch(\n",
    "        'https://127.0.0.1:9200',\n",
    "        basic_auth=('elastic', 'gHcmDFVtcTaCkB4QPVHSYkEe7bTbYd!x'),\n",
    "        verify_certs=False\n",
    "    )"
   ]
  },
  {
   "cell_type": "code",
   "execution_count": 12,
   "metadata": {},
   "outputs": [],
   "source": [
    "# def secret(key: str) -> str:\n",
    "#     \"\"\"Read secret from k8s secret volume\"\"\"\n",
    "#     with open(f\"/secrets/default/secrets/{key}\", \"r\", encoding=\"utf-8\") as f:\n",
    "#         return f.read()\n",
    "\n",
    "\n",
    "# host = secret(\"ES_URL\")\n",
    "# basic_auth = (secret(\"ES_USERNAME\"), secret(\"ES_PASSWORD\"))\n",
    "# es = Elasticsearch(host, basic_auth=basic_auth, verify_certs=False)"
   ]
  },
  {
   "cell_type": "code",
   "execution_count": 13,
   "metadata": {},
   "outputs": [],
   "source": [
    "# # 定义查询语句\n",
    "# query = {\n",
    "#     \"query\": {\n",
    "#         \"match_all\": {}\n",
    "#     }\n",
    "# }\n",
    "\n",
    "# # 执行查询\n",
    "# weather_index_name = 'bom_melbourne_weather_past'\n",
    "# response = es.search(index=weather_index_name, body=query, size=500)  # size 参数设置为较大值以获取更多数据\n",
    "# weather_hits = response['hits']['hits']\n",
    "# weather_data = []\n",
    "\n",
    "# for hit in weather_hits:\n",
    "#     source = hit['_source']\n",
    "#     weather_data.append({\n",
    "#         'Date': source['Date'],\n",
    "#         'Rainfall (mm)': source['Rainfall (mm)']\n",
    "#     })\n",
    "\n",
    "# weather_df = pd.DataFrame(weather_data)\n",
    "# weather_df['Date'] = pd.to_datetime(weather_df['Date'])\n",
    "# weather_df = weather_df.sort_values('Date')\n",
    "# weather_df.set_index('Date', inplace=True)\n",
    "\n",
    "# weather_df\n",
    "\n",
    "# # # 转换 Date 列为日期格式\n",
    "# # df['Date'] = pd.to_datetime(df['Date'])\n",
    "\n",
    "# # # 按日期排序\n",
    "# # df = df.sort_values('Date')\n",
    "\n",
    "# # # 设置 Date 列为索引\n",
    "# # df.set_index('Date', inplace=True)\n",
    "\n",
    "# # # 显示前几行数据\n",
    "# # print(df.head())\n",
    "\n",
    "# # # 数据分析和可视化示例\n",
    "# # plt.figure(figsize=(12, 6))\n",
    "# # plt.plot(df.index, df['Rainfall (mm)'], marker='o')\n",
    "# # plt.title('Rainfall Over Time')\n",
    "# # plt.xlabel('Date')\n",
    "# # plt.ylabel('Rainfall (mm)')\n",
    "# # plt.grid(True)\n",
    "# # plt.show()\n"
   ]
  },
  {
   "cell_type": "code",
   "execution_count": 14,
   "metadata": {},
   "outputs": [],
   "source": [
    "def get_rainfall(date):\n",
    "    url = f\"http://localhost:9090/bom-past-rainfall/rainfall/{date}\"\n",
    "    headers = {\"X-Fission-Params-Date\": date}\n",
    "    response = requests.get(url, headers=headers)\n",
    "    if response.status_code == 200:\n",
    "        return response.json().get('rainfall_amount', 0)\n",
    "    else:\n",
    "        return \"error\""
   ]
  },
  {
   "cell_type": "code",
   "execution_count": 15,
   "metadata": {},
   "outputs": [],
   "source": [
    "def get_accident_count(date):\n",
    "    url = f\"http://localhost:9090/traffic-accident/accident-count/{date}\"\n",
    "    headers = {\"X-Fission-Params-Date\": date}\n",
    "    response = requests.get(url, headers=headers)\n",
    "    if response.status_code == 200:\n",
    "        return response.json().get('center_accidents', 0)\n",
    "    else:\n",
    "        return \"error\""
   ]
  },
  {
   "cell_type": "code",
   "execution_count": 16,
   "metadata": {},
   "outputs": [
    {
     "name": "stdout",
     "output_type": "stream",
     "text": [
      "            Accident Count\n",
      "Date                      \n",
      "2023-04-01              13\n",
      "2023-04-02              12\n",
      "2023-04-03              12\n",
      "2023-04-04              12\n",
      "2023-04-05               9\n",
      "            Rainfall (mm)\n",
      "Date                     \n",
      "2023-04-01            4.6\n",
      "2023-04-02            0.2\n",
      "2023-04-03            0.0\n",
      "2023-04-04            0.0\n",
      "2023-04-05            0.0\n"
     ]
    }
   ],
   "source": [
    "# create a dataframe for storing the accident data and rainfall data\n",
    "accident_data = []\n",
    "rainfall_data = []\n",
    "# set date range from 2023-04-01 to 2023-09-30\n",
    "date_range = pd.date_range(start='2023-04-01', end='2023-09-30')\n",
    "\n",
    "for date in date_range:\n",
    "    date_str = date.strftime('%Y-%m-%d')\n",
    "    accident_count = get_accident_count(date_str)\n",
    "    rainfall = get_rainfall(date_str)\n",
    "    accident_data.append({\n",
    "        'Date': date,\n",
    "        'Accident Count': accident_count\n",
    "    })\n",
    "    rainfall_data.append({\n",
    "        'Date': date,\n",
    "        'Rainfall (mm)': rainfall\n",
    "    })\n",
    "\n",
    "accident_df = pd.DataFrame(accident_data)\n",
    "rainfall_df = pd.DataFrame(rainfall_data)\n",
    "\n",
    "# set date as the index\n",
    "accident_df.set_index('Date', inplace=True)\n",
    "rainfall_df.set_index('Date', inplace=True)\n",
    "\n",
    "print(accident_df.head())\n",
    "print(rainfall_df.head())"
   ]
  },
  {
   "cell_type": "code",
   "execution_count": 22,
   "metadata": {},
   "outputs": [
    {
     "name": "stdout",
     "output_type": "stream",
     "text": [
      "            Rainfall (mm)  Accident Count\n",
      "Date                                     \n",
      "2023-04-01            4.6              13\n",
      "2023-04-02            0.2              12\n",
      "2023-04-03            0.0              12\n",
      "2023-04-04            0.0              12\n",
      "2023-04-05            0.0               9\n"
     ]
    },
    {
     "data": {
      "image/png": "[encoded data removed]",
      "text/plain": [
       "<Figure size 800x400 with 1 Axes>"
      ]
     },
     "metadata": {},
     "output_type": "display_data"
    }
   ],
   "source": [
    "# merge weather rainfall data and accident data\n",
    "combined_df = pd.merge(rainfall_df, accident_df, left_index=True, right_index=True)\n",
    "print(combined_df.head())\n",
    "\n",
    "# scatter plot \n",
    "plt.figure(figsize=(8, 4))\n",
    "plt.scatter(combined_df['Rainfall (mm)'], combined_df['Accident Count'], alpha=0.5)\n",
    "\n",
    "# draw a best fit line\n",
    "# X = combined_df['Rainfall (mm)'].values.reshape(-1, 1)\n",
    "# y = combined_df['Accident Count'].values\n",
    "\n",
    "# model = LinearRegression()\n",
    "# model.fit(X, y)\n",
    "# best_fit_line = model.predict(X)\n",
    "# plt.plot(combined_df['Rainfall (mm)'], best_fit_line, color='red', label='Best fit line')\n",
    "\n",
    "plt.title('Accident Count in Melbourne vs. Rainfall')\n",
    "plt.xlabel('Rainfall (mm)')\n",
    "plt.ylabel('Accident Count')\n",
    "plt.grid(True)\n",
    "plt.show()"
   ]
  },
  {
   "cell_type": "code",
   "execution_count": null,
   "metadata": {},
   "outputs": [],
   "source": []
  }
 ],
 "metadata": {
  "kernelspec": {
   "display_name": "base",
   "language": "python",
   "name": "python3"
  },
  "language_info": {
   "codemirror_mode": {
    "name": "ipython",
    "version": 3
   },
   "file_extension": ".py",
   "mimetype": "text/x-python",
   "name": "python",
   "nbconvert_exporter": "python",
   "pygments_lexer": "ipython3",
   "version": "3.8.17"
  }
 },
 "nbformat": 4,
 "nbformat_minor": 2
}
