{
 "cells": [
  {
   "cell_type": "code",
   "execution_count": 20,
   "metadata": {},
   "outputs": [],
   "source": [
    "from elasticsearch import Elasticsearch\n",
    "import pandas as pd\n",
    "import matplotlib.pyplot as plt\n",
    "import requests\n",
    "import numpy as np\n",
    "from sklearn.linear_model import LinearRegression"
   ]
  },
  {
   "cell_type": "code",
   "execution_count": 21,
   "metadata": {},
   "outputs": [
    {
     "name": "stderr",
     "output_type": "stream",
     "text": [
      "/home/kejing/miniconda3_py38/lib/python3.8/site-packages/elasticsearch/_sync/client/__init__.py:399: SecurityWarning: Connecting to 'https://127.0.0.1:9200' using TLS with verify_certs=False is insecure\n",
      "  _transport = transport_class(\n"
     ]
    }
   ],
   "source": [
    "es = Elasticsearch(\n",
    "        'https://127.0.0.1:9200',\n",
    "        basic_auth=('elastic', 'gHcmDFVtcTaCkB4QPVHSYkEe7bTbYd!x'),\n",
    "        verify_certs=False\n",
    "    )"
   ]
  },
  {
   "cell_type": "code",
   "execution_count": 22,
   "metadata": {},
   "outputs": [],
   "source": [
    "# def secret(key: str) -> str:\n",
    "#     \"\"\"Read secret from k8s secret volume\"\"\"\n",
    "#     with open(f\"/secrets/default/secrets/{key}\", \"r\", encoding=\"utf-8\") as f:\n",
    "#         return f.read()\n",
    "\n",
    "\n",
    "# host = secret(\"ES_URL\")\n",
    "# basic_auth = (secret(\"ES_USERNAME\"), secret(\"ES_PASSWORD\"))\n",
    "# es = Elasticsearch(host, basic_auth=basic_auth, verify_certs=False)"
   ]
  },
  {
   "cell_type": "code",
   "execution_count": 23,
   "metadata": {},
   "outputs": [
    {
     "name": "stderr",
     "output_type": "stream",
     "text": [
      "/tmp/ipykernel_9012/3459406056.py:10: DeprecationWarning: Received 'size' via a specific parameter in the presence of a 'body' parameter, which is deprecated and will be removed in a future version. Instead, use only 'body' or only specific parameters.\n",
      "  response = es.search(index=weather_index_name, body=query, size=500)  # size 参数设置为较大值以获取更多数据\n",
      "/home/kejing/miniconda3_py38/lib/python3.8/site-packages/urllib3/connectionpool.py:1095: InsecureRequestWarning: Unverified HTTPS request is being made to host '127.0.0.1'. Adding certificate verification is strongly advised. See: https://urllib3.readthedocs.io/en/latest/advanced-usage.html#tls-warnings\n",
      "  warnings.warn(\n"
     ]
    },
    {
     "data": {
      "text/html": [
       "<div>\n",
       "<style scoped>\n",
       "    .dataframe tbody tr th:only-of-type {\n",
       "        vertical-align: middle;\n",
       "    }\n",
       "\n",
       "    .dataframe tbody tr th {\n",
       "        vertical-align: top;\n",
       "    }\n",
       "\n",
       "    .dataframe thead th {\n",
       "        text-align: right;\n",
       "    }\n",
       "</style>\n",
       "<table border=\"1\" class=\"dataframe\">\n",
       "  <thead>\n",
       "    <tr style=\"text-align: right;\">\n",
       "      <th></th>\n",
       "      <th>Rainfall (mm)</th>\n",
       "    </tr>\n",
       "    <tr>\n",
       "      <th>Date</th>\n",
       "      <th></th>\n",
       "    </tr>\n",
       "  </thead>\n",
       "  <tbody>\n",
       "    <tr>\n",
       "      <th>2023-04-01</th>\n",
       "      <td>4.6</td>\n",
       "    </tr>\n",
       "    <tr>\n",
       "      <th>2023-04-02</th>\n",
       "      <td>0.2</td>\n",
       "    </tr>\n",
       "    <tr>\n",
       "      <th>2023-04-03</th>\n",
       "      <td>0.0</td>\n",
       "    </tr>\n",
       "    <tr>\n",
       "      <th>2023-04-04</th>\n",
       "      <td>0.0</td>\n",
       "    </tr>\n",
       "    <tr>\n",
       "      <th>2023-04-05</th>\n",
       "      <td>0.0</td>\n",
       "    </tr>\n",
       "    <tr>\n",
       "      <th>...</th>\n",
       "      <td>...</td>\n",
       "    </tr>\n",
       "    <tr>\n",
       "      <th>2024-05-09</th>\n",
       "      <td>0.0</td>\n",
       "    </tr>\n",
       "    <tr>\n",
       "      <th>2024-05-10</th>\n",
       "      <td>14.0</td>\n",
       "    </tr>\n",
       "    <tr>\n",
       "      <th>2024-05-11</th>\n",
       "      <td>1.8</td>\n",
       "    </tr>\n",
       "    <tr>\n",
       "      <th>2024-05-12</th>\n",
       "      <td>0.0</td>\n",
       "    </tr>\n",
       "    <tr>\n",
       "      <th>2024-05-13</th>\n",
       "      <td>0.0</td>\n",
       "    </tr>\n",
       "  </tbody>\n",
       "</table>\n",
       "<p>409 rows × 1 columns</p>\n",
       "</div>"
      ],
      "text/plain": [
       "            Rainfall (mm)\n",
       "Date                     \n",
       "2023-04-01            4.6\n",
       "2023-04-02            0.2\n",
       "2023-04-03            0.0\n",
       "2023-04-04            0.0\n",
       "2023-04-05            0.0\n",
       "...                   ...\n",
       "2024-05-09            0.0\n",
       "2024-05-10           14.0\n",
       "2024-05-11            1.8\n",
       "2024-05-12            0.0\n",
       "2024-05-13            0.0\n",
       "\n",
       "[409 rows x 1 columns]"
      ]
     },
     "execution_count": 23,
     "metadata": {},
     "output_type": "execute_result"
    }
   ],
   "source": [
    "# 定义查询语句\n",
    "query = {\n",
    "    \"query\": {\n",
    "        \"match_all\": {}\n",
    "    }\n",
    "}\n",
    "\n",
    "# 执行查询\n",
    "weather_index_name = 'bom_melbourne_weather_past'\n",
    "response = es.search(index=weather_index_name, body=query, size=500)  # size 参数设置为较大值以获取更多数据\n",
    "weather_hits = response['hits']['hits']\n",
    "weather_data = []\n",
    "\n",
    "for hit in weather_hits:\n",
    "    source = hit['_source']\n",
    "    weather_data.append({\n",
    "        'Date': source['Date'],\n",
    "        'Rainfall (mm)': source['Rainfall (mm)']\n",
    "    })\n",
    "\n",
    "weather_df = pd.DataFrame(weather_data)\n",
    "weather_df['Date'] = pd.to_datetime(weather_df['Date'])\n",
    "weather_df = weather_df.sort_values('Date')\n",
    "weather_df.set_index('Date', inplace=True)\n",
    "\n",
    "weather_df\n",
    "\n",
    "# # 转换 Date 列为日期格式\n",
    "# df['Date'] = pd.to_datetime(df['Date'])\n",
    "\n",
    "# # 按日期排序\n",
    "# df = df.sort_values('Date')\n",
    "\n",
    "# # 设置 Date 列为索引\n",
    "# df.set_index('Date', inplace=True)\n",
    "\n",
    "# # 显示前几行数据\n",
    "# print(df.head())\n",
    "\n",
    "# # 数据分析和可视化示例\n",
    "# plt.figure(figsize=(12, 6))\n",
    "# plt.plot(df.index, df['Rainfall (mm)'], marker='o')\n",
    "# plt.title('Rainfall Over Time')\n",
    "# plt.xlabel('Date')\n",
    "# plt.ylabel('Rainfall (mm)')\n",
    "# plt.grid(True)\n",
    "# plt.show()\n"
   ]
  },
  {
   "cell_type": "code",
   "execution_count": 26,
   "metadata": {},
   "outputs": [
    {
     "name": "stdout",
     "output_type": "stream",
     "text": [
      "            Accident Count\n",
      "Date                      \n",
      "2023-04-01              13\n",
      "2023-04-02              12\n",
      "2023-04-03              12\n",
      "2023-04-04              12\n",
      "2023-04-05               9\n"
     ]
    }
   ],
   "source": [
    "def get_accident_count(date):\n",
    "    url = f\"http://localhost:9090/traffic-accident/accident-count/{date}\"\n",
    "    headers = {\"X-Fission-Params-Date\": date}\n",
    "    response = requests.get(url, headers=headers)\n",
    "    if response.status_code == 200:\n",
    "        return response.json().get('center_accidents', 0)\n",
    "    else:\n",
    "        return 0\n",
    "\n",
    "# 创建一个 DataFrame 存储事故数量数据\n",
    "accident_data = []\n",
    "\n",
    "# 假设日期范围为 2023-04-01 到 2023-04-30\n",
    "date_range = pd.date_range(start='2023-04-01', end='2023-09-30')\n",
    "\n",
    "for date in date_range:\n",
    "    date_str = date.strftime('%Y-%m-%d')\n",
    "    accident_count = get_accident_count(date_str)\n",
    "    accident_data.append({\n",
    "        'Date': date,\n",
    "        'Accident Count': accident_count\n",
    "    })\n",
    "\n",
    "# 创建 DataFrame\n",
    "accident_df = pd.DataFrame(accident_data)\n",
    "\n",
    "# 设置 Date 列为索引\n",
    "accident_df.set_index('Date', inplace=True)\n",
    "\n",
    "# 显示前几行数据\n",
    "print(accident_df.head())\n"
   ]
  },
  {
   "cell_type": "code",
   "execution_count": 27,
   "metadata": {},
   "outputs": [
    {
     "name": "stdout",
     "output_type": "stream",
     "text": [
      "            Rainfall (mm)  Accident Count\n",
      "Date                                     \n",
      "2023-04-01            4.6              13\n",
      "2023-04-02            0.2              12\n",
      "2023-04-03            0.0              12\n",
      "2023-04-04            0.0              12\n",
      "2023-04-05            0.0               9\n"
     ]
    },
    {
     "data": {
      "image/png": "[encoded data removed]",
      "text/plain": [
       "<Figure size 1200x600 with 1 Axes>"
      ]
     },
     "metadata": {},
     "output_type": "display_data"
    }
   ],
   "source": [
    "# 合并数据\n",
    "combined_df = pd.merge(weather_df, accident_df, left_index=True, right_index=True)\n",
    "\n",
    "# 显示前几行数据\n",
    "print(combined_df.head())\n",
    "\n",
    "# scatter plot \n",
    "plt.figure(figsize=(12, 6))\n",
    "# plt.scatter(combined_df['Accident Count'], combined_df['Rainfall (mm)'], alpha=0.5)\n",
    "plt.scatter(combined_df['Rainfall (mm)'], combined_df['Accident Count'], alpha=0.5)\n",
    "\n",
    "# X = combined_df['Rainfall (mm)'].values.reshape(-1, 1)  # 自变量\n",
    "# y = combined_df['Accident Count'].values  # 因变量\n",
    "\n",
    "# model = LinearRegression()\n",
    "# model.fit(X, y)\n",
    "# best_fit_line = model.predict(X)\n",
    "# plt.plot(combined_df['Rainfall (mm)'], best_fit_line, color='red', label='Best fit line')\n",
    "\n",
    "plt.title('Accident Count vs. Rainfall')\n",
    "plt.xlabel('Rainfall (mm)')\n",
    "plt.ylabel('Accident Count')\n",
    "plt.grid(True)\n",
    "plt.show()"
   ]
  },
  {
   "cell_type": "code",
   "execution_count": null,
   "metadata": {},
   "outputs": [],
   "source": []
  }
 ],
 "metadata": {
  "kernelspec": {
   "display_name": "base",
   "language": "python",
   "name": "python3"
  },
  "language_info": {
   "codemirror_mode": {
    "name": "ipython",
    "version": 3
   },
   "file_extension": ".py",
   "mimetype": "text/x-python",
   "name": "python",
   "nbconvert_exporter": "python",
   "pygments_lexer": "ipython3",
   "version": "3.8.17"
  }
 },
 "nbformat": 4,
 "nbformat_minor": 2
}
